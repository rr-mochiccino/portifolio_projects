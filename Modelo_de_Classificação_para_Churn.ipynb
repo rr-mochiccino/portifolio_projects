{
  "nbformat": 4,
  "nbformat_minor": 0,
  "metadata": {
    "colab": {
      "provenance": []
    },
    "kernelspec": {
      "name": "python3",
      "display_name": "Python 3"
    },
    "language_info": {
      "name": "python"
    }
  },
  "cells": [
    {
      "cell_type": "markdown",
      "source": [
        "\n",
        "****\n",
        "\n",
        "***\n",
        "# <font color=red size=10>Modelo de Classificação para Churn</font>\n",
        "***\n",
        "\n",
        "****"
      ],
      "metadata": {
        "id": "sHcZAacE2N9v"
      }
    },
    {
      "cell_type": "markdown",
      "source": [
        "Atualmente, uma empresa enfrenta um desafio significativo relacionado a um aumento no número de churn, com muitos clientes cancelando o serviço. Para enfrentar essa situação, o time de marketing propôs uma estratégia proativa: oferecer promoções direcionadas aos clientes que apresentam maior probabilidade de cancelamento, buscando assim evitar a perda desses clientes valiosos.\n",
        "\n",
        "Então, será desenvolvido um modelo de Machine Learning. Este modelo será construído com base em dados históricos da empresa, que incluem informações sobre os clientes, seus contratos e os eventos de cancelamento anteriores. Essa abordagem nos permitirá classificar os clientes em categorias de possíveis cancelamentos ou não, proporcionando insights valiosos para direcionar as ações de retenção da empresa com mais eficácia."
      ],
      "metadata": {
        "id": "EFWapvfW7IDJ"
      }
    },
    {
      "cell_type": "markdown",
      "source": [
        "#Iniciando a SparkSession"
      ],
      "metadata": {
        "id": "-TIk5ldD6j--"
      }
    },
    {
      "cell_type": "code",
      "execution_count": 1,
      "metadata": {
        "colab": {
          "base_uri": "https://localhost:8080/"
        },
        "id": "r8vxxNNG6FCF",
        "outputId": "e5d9ccc3-a749-4389-eca7-aa3d94b9b1c3"
      },
      "outputs": [
        {
          "output_type": "stream",
          "name": "stdout",
          "text": [
            "Collecting pyspark\n",
            "  Downloading pyspark-3.5.0.tar.gz (316.9 MB)\n",
            "\u001b[2K     \u001b[90m━━━━━━━━━━━━━━━━━━━━━━━━━━━━━━━━━━━━━━━\u001b[0m \u001b[32m316.9/316.9 MB\u001b[0m \u001b[31m4.3 MB/s\u001b[0m eta \u001b[36m0:00:00\u001b[0m\n",
            "\u001b[?25h  Preparing metadata (setup.py) ... \u001b[?25l\u001b[?25hdone\n",
            "Requirement already satisfied: py4j==0.10.9.7 in /usr/local/lib/python3.10/dist-packages (from pyspark) (0.10.9.7)\n",
            "Building wheels for collected packages: pyspark\n",
            "  Building wheel for pyspark (setup.py) ... \u001b[?25l\u001b[?25hdone\n",
            "  Created wheel for pyspark: filename=pyspark-3.5.0-py2.py3-none-any.whl size=317425344 sha256=681b5ee45c8f410cdf2b1da2f149db4cc9f0f79bc4069333b36df49d436d37c9\n",
            "  Stored in directory: /root/.cache/pip/wheels/41/4e/10/c2cf2467f71c678cfc8a6b9ac9241e5e44a01940da8fbb17fc\n",
            "Successfully built pyspark\n",
            "Installing collected packages: pyspark\n",
            "Successfully installed pyspark-3.5.0\n"
          ]
        }
      ],
      "source": [
        "!pip install pyspark"
      ]
    },
    {
      "cell_type": "code",
      "source": [
        "from pyspark.sql import SparkSession"
      ],
      "metadata": {
        "id": "8BB8dblh6jJL"
      },
      "execution_count": 177,
      "outputs": []
    },
    {
      "cell_type": "code",
      "source": [
        "spark = SparkSession.builder.master('local[*]').appName('Modelo de Classificaçao para Ocorrência de Cancelamento').getOrCreate()"
      ],
      "metadata": {
        "id": "s8FxNss-6NPw"
      },
      "execution_count": 4,
      "outputs": []
    },
    {
      "cell_type": "code",
      "source": [
        "spark"
      ],
      "metadata": {
        "colab": {
          "base_uri": "https://localhost:8080/",
          "height": 219
        },
        "id": "JFxP-nal7fHT",
        "outputId": "ecebdf72-5af1-4316-ec17-0fb125754555"
      },
      "execution_count": 5,
      "outputs": [
        {
          "output_type": "execute_result",
          "data": {
            "text/plain": [
              "<pyspark.sql.session.SparkSession at 0x7b6f63501300>"
            ],
            "text/html": [
              "\n",
              "            <div>\n",
              "                <p><b>SparkSession - in-memory</b></p>\n",
              "                \n",
              "        <div>\n",
              "            <p><b>SparkContext</b></p>\n",
              "\n",
              "            <p><a href=\"http://cce5126d5189:4040\">Spark UI</a></p>\n",
              "\n",
              "            <dl>\n",
              "              <dt>Version</dt>\n",
              "                <dd><code>v3.5.0</code></dd>\n",
              "              <dt>Master</dt>\n",
              "                <dd><code>local[*]</code></dd>\n",
              "              <dt>AppName</dt>\n",
              "                <dd><code>Modelo de Classificaçao para Ocorrência de Cancelamento</code></dd>\n",
              "            </dl>\n",
              "        </div>\n",
              "        \n",
              "            </div>\n",
              "        "
            ]
          },
          "metadata": {},
          "execution_count": 5
        }
      ]
    },
    {
      "cell_type": "markdown",
      "source": [
        "#Carregando os Dados"
      ],
      "metadata": {
        "id": "bQMU8lJe7zAZ"
      }
    },
    {
      "cell_type": "code",
      "source": [
        "from google.colab import drive\n",
        "drive.mount('/content/drive')"
      ],
      "metadata": {
        "colab": {
          "base_uri": "https://localhost:8080/"
        },
        "id": "uqQcVacZ72u-",
        "outputId": "bf3d3c29-7dca-43a6-f213-b2b0e56b9ddd"
      },
      "execution_count": 6,
      "outputs": [
        {
          "output_type": "stream",
          "name": "stdout",
          "text": [
            "Mounted at /content/drive\n"
          ]
        }
      ]
    },
    {
      "cell_type": "code",
      "source": [
        "dados = spark.read.csv('/content/drive/MyDrive/Data_/dados_clientes.csv',\n",
        "                      sep = ',', header  = True, inferSchema = True)"
      ],
      "metadata": {
        "id": "OsEx-0cm8n9P"
      },
      "execution_count": 7,
      "outputs": []
    },
    {
      "cell_type": "code",
      "source": [
        "dados.show()"
      ],
      "metadata": {
        "colab": {
          "base_uri": "https://localhost:8080/"
        },
        "id": "fs5ebiT89gsE",
        "outputId": "63721fc3-25b0-4b32-f6db-40666c4d22e2"
      },
      "execution_count": 9,
      "outputs": [
        {
          "output_type": "stream",
          "name": "stdout",
          "text": [
            "+---+-----+----------+-------+-----------+---------------+------------+------------------------+-----------+------------------+------------------+------------------+------------------+------------------+------------------+------------+------------+----------------+-------------+\n",
            "| id|Churn|Mais65anos|Conjuge|Dependentes|MesesDeContrato|TelefoneFixo|MaisDeUmaLinhaTelefonica|   Internet|   SegurancaOnline|      BackupOnline| SeguroDispositivo|    SuporteTecnico|           TVaCabo|   StreamingFilmes|TipoContrato|ContaCorreio| MetodoPagamento|MesesCobrados|\n",
            "+---+-----+----------+-------+-----------+---------------+------------+------------------------+-----------+------------------+------------------+------------------+------------------+------------------+------------------+------------+------------+----------------+-------------+\n",
            "|  0|  Nao|         0|    Sim|        Nao|              1|         Nao|    SemServicoTelefonico|        DSL|               Nao|               Sim|               Nao|               Nao|               Nao|               Nao| Mensalmente|         Sim|BoletoEletronico|        29.85|\n",
            "|  1|  Nao|         0|    Nao|        Nao|             34|         Sim|                     Nao|        DSL|               Sim|               Nao|               Sim|               Nao|               Nao|               Nao|       UmAno|         Nao|          Boleto|        56.95|\n",
            "|  2|  Sim|         0|    Nao|        Nao|              2|         Sim|                     Nao|        DSL|               Sim|               Sim|               Nao|               Nao|               Nao|               Nao| Mensalmente|         Sim|          Boleto|        53.85|\n",
            "|  3|  Nao|         0|    Nao|        Nao|             45|         Nao|    SemServicoTelefonico|        DSL|               Sim|               Nao|               Sim|               Sim|               Nao|               Nao|       UmAno|         Nao|   DebitoEmConta|         42.3|\n",
            "|  4|  Sim|         0|    Nao|        Nao|              2|         Sim|                     Nao|FibraOptica|               Nao|               Nao|               Nao|               Nao|               Nao|               Nao| Mensalmente|         Sim|BoletoEletronico|         70.7|\n",
            "|  5|  Sim|         0|    Nao|        Nao|              8|         Sim|                     Sim|FibraOptica|               Nao|               Nao|               Sim|               Nao|               Sim|               Sim| Mensalmente|         Sim|BoletoEletronico|        99.65|\n",
            "|  6|  Nao|         0|    Nao|        Sim|             22|         Sim|                     Sim|FibraOptica|               Nao|               Sim|               Nao|               Nao|               Sim|               Nao| Mensalmente|         Sim|   CartaoCredito|         89.1|\n",
            "|  7|  Nao|         0|    Nao|        Nao|             10|         Nao|    SemServicoTelefonico|        DSL|               Sim|               Nao|               Nao|               Nao|               Nao|               Nao| Mensalmente|         Nao|          Boleto|        29.75|\n",
            "|  8|  Sim|         0|    Sim|        Nao|             28|         Sim|                     Sim|FibraOptica|               Nao|               Nao|               Sim|               Sim|               Sim|               Sim| Mensalmente|         Sim|BoletoEletronico|        104.8|\n",
            "|  9|  Nao|         0|    Nao|        Sim|             62|         Sim|                     Nao|        DSL|               Sim|               Sim|               Nao|               Nao|               Nao|               Nao|       UmAno|         Nao|   DebitoEmConta|        56.15|\n",
            "| 10|  Nao|         0|    Sim|        Sim|             13|         Sim|                     Nao|        DSL|               Sim|               Nao|               Nao|               Nao|               Nao|               Nao| Mensalmente|         Sim|          Boleto|        49.95|\n",
            "| 11|  Nao|         0|    Nao|        Nao|             16|         Sim|                     Nao|        Nao|SemServicoInternet|SemServicoInternet|SemServicoInternet|SemServicoInternet|SemServicoInternet|SemServicoInternet|    DoisAnos|         Nao|   CartaoCredito|        18.95|\n",
            "| 12|  Nao|         0|    Sim|        Nao|             58|         Sim|                     Sim|FibraOptica|               Nao|               Nao|               Sim|               Nao|               Sim|               Sim|       UmAno|         Nao|   CartaoCredito|       100.35|\n",
            "| 13|  Sim|         0|    Nao|        Nao|             49|         Sim|                     Sim|FibraOptica|               Nao|               Sim|               Sim|               Nao|               Sim|               Sim| Mensalmente|         Sim|   DebitoEmConta|        103.7|\n",
            "| 14|  Nao|         0|    Nao|        Nao|             25|         Sim|                     Nao|FibraOptica|               Sim|               Nao|               Sim|               Sim|               Sim|               Sim| Mensalmente|         Sim|BoletoEletronico|        105.5|\n",
            "| 15|  Nao|         0|    Sim|        Sim|             69|         Sim|                     Sim|FibraOptica|               Sim|               Sim|               Sim|               Sim|               Sim|               Sim|    DoisAnos|         Nao|   CartaoCredito|       113.25|\n",
            "| 16|  Nao|         0|    Nao|        Nao|             52|         Sim|                     Nao|        Nao|SemServicoInternet|SemServicoInternet|SemServicoInternet|SemServicoInternet|SemServicoInternet|SemServicoInternet|       UmAno|         Nao|          Boleto|        20.65|\n",
            "| 17|  Nao|         0|    Nao|        Sim|             71|         Sim|                     Sim|FibraOptica|               Sim|               Nao|               Sim|               Nao|               Sim|               Sim|    DoisAnos|         Nao|   DebitoEmConta|        106.7|\n",
            "| 18|  Sim|         0|    Sim|        Sim|             10|         Sim|                     Nao|        DSL|               Nao|               Nao|               Sim|               Sim|               Nao|               Nao| Mensalmente|         Nao|   CartaoCredito|         55.2|\n",
            "| 19|  Nao|         0|    Nao|        Nao|             21|         Sim|                     Nao|FibraOptica|               Nao|               Sim|               Sim|               Nao|               Nao|               Sim| Mensalmente|         Sim|BoletoEletronico|        90.05|\n",
            "+---+-----+----------+-------+-----------+---------------+------------+------------------------+-----------+------------------+------------------+------------------+------------------+------------------+------------------+------------+------------+----------------+-------------+\n",
            "only showing top 20 rows\n",
            "\n"
          ]
        }
      ]
    },
    {
      "cell_type": "code",
      "source": [
        "dados.count()"
      ],
      "metadata": {
        "colab": {
          "base_uri": "https://localhost:8080/"
        },
        "id": "p9Lr_J-B9k2D",
        "outputId": "7957efa7-da1b-420e-f23d-886ccb881e96"
      },
      "execution_count": 10,
      "outputs": [
        {
          "output_type": "execute_result",
          "data": {
            "text/plain": [
              "10348"
            ]
          },
          "metadata": {},
          "execution_count": 10
        }
      ]
    },
    {
      "cell_type": "code",
      "source": [
        "dados.groupBy('Churn').count().show()"
      ],
      "metadata": {
        "colab": {
          "base_uri": "https://localhost:8080/"
        },
        "id": "G4KjViR599T8",
        "outputId": "ddda35f5-c5da-42f2-9022-4675b24e9ccf"
      },
      "execution_count": 12,
      "outputs": [
        {
          "output_type": "stream",
          "name": "stdout",
          "text": [
            "+-----+-----+\n",
            "|Churn|count|\n",
            "+-----+-----+\n",
            "|  Sim| 5174|\n",
            "|  Nao| 5174|\n",
            "+-----+-----+\n",
            "\n"
          ]
        }
      ]
    },
    {
      "cell_type": "markdown",
      "source": [
        "Como podemos observar, a base de dados tem um número igual de elementos para cada uma das labels, dessa forma, podemos entender que **a base está balanceada.**"
      ],
      "metadata": {
        "id": "aHIastX7-NSd"
      }
    },
    {
      "cell_type": "code",
      "source": [
        "dados.printSchema()"
      ],
      "metadata": {
        "colab": {
          "base_uri": "https://localhost:8080/"
        },
        "id": "zGzedKnf-GVu",
        "outputId": "cc6b2516-fb8b-4a64-ad0b-a3c8792b90a1"
      },
      "execution_count": 13,
      "outputs": [
        {
          "output_type": "stream",
          "name": "stdout",
          "text": [
            "root\n",
            " |-- id: integer (nullable = true)\n",
            " |-- Churn: string (nullable = true)\n",
            " |-- Mais65anos: integer (nullable = true)\n",
            " |-- Conjuge: string (nullable = true)\n",
            " |-- Dependentes: string (nullable = true)\n",
            " |-- MesesDeContrato: integer (nullable = true)\n",
            " |-- TelefoneFixo: string (nullable = true)\n",
            " |-- MaisDeUmaLinhaTelefonica: string (nullable = true)\n",
            " |-- Internet: string (nullable = true)\n",
            " |-- SegurancaOnline: string (nullable = true)\n",
            " |-- BackupOnline: string (nullable = true)\n",
            " |-- SeguroDispositivo: string (nullable = true)\n",
            " |-- SuporteTecnico: string (nullable = true)\n",
            " |-- TVaCabo: string (nullable = true)\n",
            " |-- StreamingFilmes: string (nullable = true)\n",
            " |-- TipoContrato: string (nullable = true)\n",
            " |-- ContaCorreio: string (nullable = true)\n",
            " |-- MetodoPagamento: string (nullable = true)\n",
            " |-- MesesCobrados: double (nullable = true)\n",
            "\n"
          ]
        }
      ]
    },
    {
      "cell_type": "markdown",
      "source": [
        "A maioria dos dados se apresenta como **string**, algo que numa base de dados comum não há problemas, mas no nosso caso, é. **Isso porque precisamos dos dados como números** para podermos utilizar um modelo de classificaçao corretamente na base. Para isso, iremos tratar a base no próximo tópico"
      ],
      "metadata": {
        "id": "7jCKPCIc-v3x"
      }
    },
    {
      "cell_type": "markdown",
      "source": [
        "#Tratando os dados"
      ],
      "metadata": {
        "id": "vl-uKKCV_pTG"
      }
    },
    {
      "cell_type": "code",
      "source": [
        "colunasStr = [\n",
        "    'Churn',\n",
        "    'Conjuge',\n",
        "    'Dependentes',\n",
        "    'TelefoneFixo',\n",
        "    'MaisDeUmaLinhaTelefonica',\n",
        "    'SegurancaOnline',\n",
        "    'BackupOnline',\n",
        "    'SeguroDispositivo',\n",
        "    'SuporteTecnico',\n",
        "    'TVaCabo',\n",
        "    'StreamingFilmes',\n",
        "    'ContaCorreio'\n",
        "]"
      ],
      "metadata": {
        "id": "NHqJGQyS_sE5"
      },
      "execution_count": 19,
      "outputs": []
    },
    {
      "cell_type": "code",
      "source": [
        "from pyspark.sql import functions as f"
      ],
      "metadata": {
        "id": "ox1yjcQf_zc2"
      },
      "execution_count": 16,
      "outputs": []
    },
    {
      "cell_type": "code",
      "source": [
        "colunasTrans = [f.when(f.col(c) =='Sim',1).otherwise(0).alias(c) for c in colunasStr ]"
      ],
      "metadata": {
        "id": "NTjAYWqHAEJ2"
      },
      "execution_count": 20,
      "outputs": []
    },
    {
      "cell_type": "code",
      "source": [
        "for coluna in reversed(dados.columns):\n",
        "  if coluna not in colunasStr:\n",
        "    colunasTrans.insert (0, coluna)\n",
        "\n",
        "colunasTrans"
      ],
      "metadata": {
        "colab": {
          "base_uri": "https://localhost:8080/"
        },
        "id": "z09lETO-Anoz",
        "outputId": "df34c853-cbaf-4036-fbee-092d6567f124"
      },
      "execution_count": 21,
      "outputs": [
        {
          "output_type": "execute_result",
          "data": {
            "text/plain": [
              "['id',\n",
              " 'Mais65anos',\n",
              " 'MesesDeContrato',\n",
              " 'Internet',\n",
              " 'TipoContrato',\n",
              " 'MetodoPagamento',\n",
              " 'MesesCobrados',\n",
              " Column<'CASE WHEN (Churn = Sim) THEN 1 ELSE 0 END AS Churn'>,\n",
              " Column<'CASE WHEN (Conjuge = Sim) THEN 1 ELSE 0 END AS Conjuge'>,\n",
              " Column<'CASE WHEN (Dependentes = Sim) THEN 1 ELSE 0 END AS Dependentes'>,\n",
              " Column<'CASE WHEN (TelefoneFixo = Sim) THEN 1 ELSE 0 END AS TelefoneFixo'>,\n",
              " Column<'CASE WHEN (MaisDeUmaLinhaTelefonica = Sim) THEN 1 ELSE 0 END AS MaisDeUmaLinhaTelefonica'>,\n",
              " Column<'CASE WHEN (SegurancaOnline = Sim) THEN 1 ELSE 0 END AS SegurancaOnline'>,\n",
              " Column<'CASE WHEN (BackupOnline = Sim) THEN 1 ELSE 0 END AS BackupOnline'>,\n",
              " Column<'CASE WHEN (SeguroDispositivo = Sim) THEN 1 ELSE 0 END AS SeguroDispositivo'>,\n",
              " Column<'CASE WHEN (SuporteTecnico = Sim) THEN 1 ELSE 0 END AS SuporteTecnico'>,\n",
              " Column<'CASE WHEN (TVaCabo = Sim) THEN 1 ELSE 0 END AS TVaCabo'>,\n",
              " Column<'CASE WHEN (StreamingFilmes = Sim) THEN 1 ELSE 0 END AS StreamingFilmes'>,\n",
              " Column<'CASE WHEN (ContaCorreio = Sim) THEN 1 ELSE 0 END AS ContaCorreio'>]"
            ]
          },
          "metadata": {},
          "execution_count": 21
        }
      ]
    },
    {
      "cell_type": "code",
      "source": [
        "dados.select(colunasTrans).show()"
      ],
      "metadata": {
        "colab": {
          "base_uri": "https://localhost:8080/"
        },
        "id": "vN4Fk8IHApHL",
        "outputId": "d0ac337c-e5d6-466a-add3-871fedf1b4c1"
      },
      "execution_count": 23,
      "outputs": [
        {
          "output_type": "stream",
          "name": "stdout",
          "text": [
            "+---+----------+---------------+-----------+------------+----------------+-------------+-----+-------+-----------+------------+------------------------+---------------+------------+-----------------+--------------+-------+---------------+------------+\n",
            "| id|Mais65anos|MesesDeContrato|   Internet|TipoContrato| MetodoPagamento|MesesCobrados|Churn|Conjuge|Dependentes|TelefoneFixo|MaisDeUmaLinhaTelefonica|SegurancaOnline|BackupOnline|SeguroDispositivo|SuporteTecnico|TVaCabo|StreamingFilmes|ContaCorreio|\n",
            "+---+----------+---------------+-----------+------------+----------------+-------------+-----+-------+-----------+------------+------------------------+---------------+------------+-----------------+--------------+-------+---------------+------------+\n",
            "|  0|         0|              1|        DSL| Mensalmente|BoletoEletronico|        29.85|    0|      1|          0|           0|                       0|              0|           1|                0|             0|      0|              0|           1|\n",
            "|  1|         0|             34|        DSL|       UmAno|          Boleto|        56.95|    0|      0|          0|           1|                       0|              1|           0|                1|             0|      0|              0|           0|\n",
            "|  2|         0|              2|        DSL| Mensalmente|          Boleto|        53.85|    1|      0|          0|           1|                       0|              1|           1|                0|             0|      0|              0|           1|\n",
            "|  3|         0|             45|        DSL|       UmAno|   DebitoEmConta|         42.3|    0|      0|          0|           0|                       0|              1|           0|                1|             1|      0|              0|           0|\n",
            "|  4|         0|              2|FibraOptica| Mensalmente|BoletoEletronico|         70.7|    1|      0|          0|           1|                       0|              0|           0|                0|             0|      0|              0|           1|\n",
            "|  5|         0|              8|FibraOptica| Mensalmente|BoletoEletronico|        99.65|    1|      0|          0|           1|                       1|              0|           0|                1|             0|      1|              1|           1|\n",
            "|  6|         0|             22|FibraOptica| Mensalmente|   CartaoCredito|         89.1|    0|      0|          1|           1|                       1|              0|           1|                0|             0|      1|              0|           1|\n",
            "|  7|         0|             10|        DSL| Mensalmente|          Boleto|        29.75|    0|      0|          0|           0|                       0|              1|           0|                0|             0|      0|              0|           0|\n",
            "|  8|         0|             28|FibraOptica| Mensalmente|BoletoEletronico|        104.8|    1|      1|          0|           1|                       1|              0|           0|                1|             1|      1|              1|           1|\n",
            "|  9|         0|             62|        DSL|       UmAno|   DebitoEmConta|        56.15|    0|      0|          1|           1|                       0|              1|           1|                0|             0|      0|              0|           0|\n",
            "| 10|         0|             13|        DSL| Mensalmente|          Boleto|        49.95|    0|      1|          1|           1|                       0|              1|           0|                0|             0|      0|              0|           1|\n",
            "| 11|         0|             16|        Nao|    DoisAnos|   CartaoCredito|        18.95|    0|      0|          0|           1|                       0|              0|           0|                0|             0|      0|              0|           0|\n",
            "| 12|         0|             58|FibraOptica|       UmAno|   CartaoCredito|       100.35|    0|      1|          0|           1|                       1|              0|           0|                1|             0|      1|              1|           0|\n",
            "| 13|         0|             49|FibraOptica| Mensalmente|   DebitoEmConta|        103.7|    1|      0|          0|           1|                       1|              0|           1|                1|             0|      1|              1|           1|\n",
            "| 14|         0|             25|FibraOptica| Mensalmente|BoletoEletronico|        105.5|    0|      0|          0|           1|                       0|              1|           0|                1|             1|      1|              1|           1|\n",
            "| 15|         0|             69|FibraOptica|    DoisAnos|   CartaoCredito|       113.25|    0|      1|          1|           1|                       1|              1|           1|                1|             1|      1|              1|           0|\n",
            "| 16|         0|             52|        Nao|       UmAno|          Boleto|        20.65|    0|      0|          0|           1|                       0|              0|           0|                0|             0|      0|              0|           0|\n",
            "| 17|         0|             71|FibraOptica|    DoisAnos|   DebitoEmConta|        106.7|    0|      0|          1|           1|                       1|              1|           0|                1|             0|      1|              1|           0|\n",
            "| 18|         0|             10|        DSL| Mensalmente|   CartaoCredito|         55.2|    1|      1|          1|           1|                       0|              0|           0|                1|             1|      0|              0|           0|\n",
            "| 19|         0|             21|FibraOptica| Mensalmente|BoletoEletronico|        90.05|    0|      0|          0|           1|                       0|              0|           1|                1|             0|      0|              1|           1|\n",
            "+---+----------+---------------+-----------+------------+----------------+-------------+-----+-------+-----------+------------+------------------------+---------------+------------+-----------------+--------------+-------+---------------+------------+\n",
            "only showing top 20 rows\n",
            "\n"
          ]
        }
      ]
    },
    {
      "cell_type": "code",
      "source": [
        "dados_new =  dados.select(colunasTrans)"
      ],
      "metadata": {
        "id": "bmieDDGvBYf2"
      },
      "execution_count": 27,
      "outputs": []
    },
    {
      "cell_type": "markdown",
      "source": [
        "##Dummies"
      ],
      "metadata": {
        "id": "QpkNe3ffBz-e"
      }
    },
    {
      "cell_type": "code",
      "source": [
        "dados_new.select(['Internet', 'TipoContrato', 'MetodoPagamento']).show()"
      ],
      "metadata": {
        "colab": {
          "base_uri": "https://localhost:8080/"
        },
        "id": "J55U4fq4BhGO",
        "outputId": "a2b70f3e-e5e2-4c46-9770-7207f75c434d"
      },
      "execution_count": 28,
      "outputs": [
        {
          "output_type": "stream",
          "name": "stdout",
          "text": [
            "+-----------+------------+----------------+\n",
            "|   Internet|TipoContrato| MetodoPagamento|\n",
            "+-----------+------------+----------------+\n",
            "|        DSL| Mensalmente|BoletoEletronico|\n",
            "|        DSL|       UmAno|          Boleto|\n",
            "|        DSL| Mensalmente|          Boleto|\n",
            "|        DSL|       UmAno|   DebitoEmConta|\n",
            "|FibraOptica| Mensalmente|BoletoEletronico|\n",
            "|FibraOptica| Mensalmente|BoletoEletronico|\n",
            "|FibraOptica| Mensalmente|   CartaoCredito|\n",
            "|        DSL| Mensalmente|          Boleto|\n",
            "|FibraOptica| Mensalmente|BoletoEletronico|\n",
            "|        DSL|       UmAno|   DebitoEmConta|\n",
            "|        DSL| Mensalmente|          Boleto|\n",
            "|        Nao|    DoisAnos|   CartaoCredito|\n",
            "|FibraOptica|       UmAno|   CartaoCredito|\n",
            "|FibraOptica| Mensalmente|   DebitoEmConta|\n",
            "|FibraOptica| Mensalmente|BoletoEletronico|\n",
            "|FibraOptica|    DoisAnos|   CartaoCredito|\n",
            "|        Nao|       UmAno|          Boleto|\n",
            "|FibraOptica|    DoisAnos|   DebitoEmConta|\n",
            "|        DSL| Mensalmente|   CartaoCredito|\n",
            "|FibraOptica| Mensalmente|BoletoEletronico|\n",
            "+-----------+------------+----------------+\n",
            "only showing top 20 rows\n",
            "\n"
          ]
        }
      ]
    },
    {
      "cell_type": "code",
      "source": [
        "dados_new.groupBy('id').pivot('Internet').agg(f.lit(1)).na.fill(0).show()"
      ],
      "metadata": {
        "colab": {
          "base_uri": "https://localhost:8080/"
        },
        "id": "swh7BoaZB8ge",
        "outputId": "2af86f87-a589-42ee-dc12-4fb2260716e2"
      },
      "execution_count": 32,
      "outputs": [
        {
          "output_type": "stream",
          "name": "stdout",
          "text": [
            "+----+---+-----------+---+\n",
            "|  id|DSL|FibraOptica|Nao|\n",
            "+----+---+-----------+---+\n",
            "|7982|  1|          0|  0|\n",
            "|9465|  0|          1|  0|\n",
            "|2122|  1|          0|  0|\n",
            "|3997|  1|          0|  0|\n",
            "|6654|  0|          1|  0|\n",
            "|7880|  0|          1|  0|\n",
            "|4519|  0|          1|  0|\n",
            "|6466|  0|          1|  0|\n",
            "| 496|  1|          0|  0|\n",
            "|7833|  0|          1|  0|\n",
            "|1591|  0|          0|  1|\n",
            "|2866|  0|          1|  0|\n",
            "|8592|  0|          1|  0|\n",
            "|1829|  0|          1|  0|\n",
            "| 463|  0|          1|  0|\n",
            "|4900|  0|          1|  0|\n",
            "|4818|  0|          1|  0|\n",
            "|7554|  1|          0|  0|\n",
            "|1342|  0|          0|  1|\n",
            "|5300|  0|          1|  0|\n",
            "+----+---+-----------+---+\n",
            "only showing top 20 rows\n",
            "\n"
          ]
        }
      ]
    },
    {
      "cell_type": "code",
      "source": [
        "Internet = dados_new.groupBy('id').pivot('Internet').agg(f.lit(1)).na.fill(0)\n",
        "TipoContrato = dados_new.groupBy('id').pivot('TipoContrato').agg(f.lit(1)).na.fill(0)\n",
        "MetodoPagamento = dados_new.groupBy('id').pivot('MetodoPagamento').agg(f.lit(1)).na.fill(0)"
      ],
      "metadata": {
        "id": "JMgv8zfCCVUx"
      },
      "execution_count": 33,
      "outputs": []
    },
    {
      "cell_type": "code",
      "source": [
        "dadosD = dados_new\\\n",
        "          .join(Internet, 'id', how = 'inner')\\\n",
        "          .join(TipoContrato,'id', how = 'inner')\\\n",
        "          .join(MetodoPagamento, 'id', how = 'inner')\\\n",
        "          .select('*',\n",
        "              f.col('DSL').alias('Internet_DSL'),\n",
        "              f.col('FibraOptica').alias('Internet_FibraOptica'),\n",
        "              f.col('Nao').alias('Internet_Nao'),\n",
        "              f.col('Mensalmente').alias('TipoContrato_Mensalmente'),\n",
        "              f.col('UmAno').alias('TipoContrato_UmAno'),\n",
        "              f.col('DoisAnos').alias('TipoContrato_DoisAnos'),\n",
        "              f.col('DebitoEmConta').alias('MetodoPagamento_DebitoEmConta'),\n",
        "              f.col('CartaoCredito').alias('MetodoPagamento_CartaoCredito'),\n",
        "              f.col('BoletoEletronico').alias('MetodoPagamento_BoletoEletronico'),\n",
        "              f.col('Boleto').alias('MetodoPagamento_Boleto')\n",
        "            )\\\n",
        "            .drop('Internet', 'TipoContrato', 'MetodoPagamento', 'DSL',\n",
        "            'FibraOptica', 'Nao', 'Mensalmente', 'UmAno', 'DoisAnos',\n",
        "            'DebitoEmConta', 'CartaoCredito', 'BoletoEletronico', 'Boleto')\n",
        "\n",
        ""
      ],
      "metadata": {
        "id": "LibJSXmMC3ld"
      },
      "execution_count": 35,
      "outputs": []
    },
    {
      "cell_type": "code",
      "source": [
        "dadosD.printSchema()"
      ],
      "metadata": {
        "colab": {
          "base_uri": "https://localhost:8080/"
        },
        "id": "Ev7QWyW4D7rE",
        "outputId": "0dd97c0e-c2a3-4366-f639-2577fc1d6534"
      },
      "execution_count": 36,
      "outputs": [
        {
          "output_type": "stream",
          "name": "stdout",
          "text": [
            "root\n",
            " |-- id: integer (nullable = true)\n",
            " |-- Mais65anos: integer (nullable = true)\n",
            " |-- MesesDeContrato: integer (nullable = true)\n",
            " |-- MesesCobrados: double (nullable = true)\n",
            " |-- Churn: integer (nullable = false)\n",
            " |-- Conjuge: integer (nullable = false)\n",
            " |-- Dependentes: integer (nullable = false)\n",
            " |-- TelefoneFixo: integer (nullable = false)\n",
            " |-- MaisDeUmaLinhaTelefonica: integer (nullable = false)\n",
            " |-- SegurancaOnline: integer (nullable = false)\n",
            " |-- BackupOnline: integer (nullable = false)\n",
            " |-- SeguroDispositivo: integer (nullable = false)\n",
            " |-- SuporteTecnico: integer (nullable = false)\n",
            " |-- TVaCabo: integer (nullable = false)\n",
            " |-- StreamingFilmes: integer (nullable = false)\n",
            " |-- ContaCorreio: integer (nullable = false)\n",
            " |-- Internet_DSL: integer (nullable = true)\n",
            " |-- Internet_FibraOptica: integer (nullable = true)\n",
            " |-- Internet_Nao: integer (nullable = true)\n",
            " |-- TipoContrato_Mensalmente: integer (nullable = true)\n",
            " |-- TipoContrato_UmAno: integer (nullable = true)\n",
            " |-- TipoContrato_DoisAnos: integer (nullable = true)\n",
            " |-- MetodoPagamento_DebitoEmConta: integer (nullable = true)\n",
            " |-- MetodoPagamento_CartaoCredito: integer (nullable = true)\n",
            " |-- MetodoPagamento_BoletoEletronico: integer (nullable = true)\n",
            " |-- MetodoPagamento_Boleto: integer (nullable = true)\n",
            "\n"
          ]
        }
      ]
    },
    {
      "cell_type": "markdown",
      "source": [
        "#Preparação para o Modelo de Classificação"
      ],
      "metadata": {
        "id": "TNmrAe2XIkzk"
      }
    },
    {
      "cell_type": "code",
      "source": [
        "dadosD.show()"
      ],
      "metadata": {
        "colab": {
          "base_uri": "https://localhost:8080/"
        },
        "id": "eD5n-7zZIoT4",
        "outputId": "459399c3-a6e4-4ad0-8e80-f3dfd499c3c6"
      },
      "execution_count": 37,
      "outputs": [
        {
          "output_type": "stream",
          "name": "stdout",
          "text": [
            "+----+----------+---------------+-----------------+-----+-------+-----------+------------+------------------------+---------------+------------+-----------------+--------------+-------+---------------+------------+------------+--------------------+------------+------------------------+------------------+---------------------+-----------------------------+-----------------------------+--------------------------------+----------------------+\n",
            "|  id|Mais65anos|MesesDeContrato|    MesesCobrados|Churn|Conjuge|Dependentes|TelefoneFixo|MaisDeUmaLinhaTelefonica|SegurancaOnline|BackupOnline|SeguroDispositivo|SuporteTecnico|TVaCabo|StreamingFilmes|ContaCorreio|Internet_DSL|Internet_FibraOptica|Internet_Nao|TipoContrato_Mensalmente|TipoContrato_UmAno|TipoContrato_DoisAnos|MetodoPagamento_DebitoEmConta|MetodoPagamento_CartaoCredito|MetodoPagamento_BoletoEletronico|MetodoPagamento_Boleto|\n",
            "+----+----------+---------------+-----------------+-----+-------+-----------+------------+------------------------+---------------+------------+-----------------+--------------+-------+---------------+------------+------------+--------------------+------------+------------------------+------------------+---------------------+-----------------------------+-----------------------------+--------------------------------+----------------------+\n",
            "|7982|         0|              1|45.30540797610398|    1|      0|          0|           0|                       0|              0|           0|                0|             0|      1|              1|           1|           1|                   0|           0|                       1|                 0|                    0|                            0|                            0|                               1|                     0|\n",
            "|9465|         0|             60|103.6142230120257|    1|      1|          0|           1|                       1|              0|           1|                1|             0|      1|              1|           1|           0|                   1|           0|                       1|                 0|                    0|                            0|                            0|                               1|                     0|\n",
            "|2122|         0|             12|            75.85|    0|      0|          0|           1|                       1|              0|           0|                0|             1|      1|              1|           1|           1|                   0|           0|                       0|                 1|                    0|                            0|                            0|                               0|                     1|\n",
            "|3997|         0|             69|            61.45|    0|      1|          0|           1|                       0|              0|           1|                0|             0|      0|              1|           1|           1|                   0|           0|                       0|                 0|                    1|                            0|                            1|                               0|                     0|\n",
            "|6654|         0|              7|             86.5|    1|      1|          0|           1|                       1|              0|           0|                0|             0|      1|              0|           1|           0|                   1|           0|                       1|                 0|                    0|                            0|                            0|                               1|                     0|\n",
            "|7880|         0|             14|85.03742670311915|    1|      0|          0|           1|                       1|              0|           0|                0|             0|      0|              1|           1|           0|                   1|           0|                       1|                 0|                    0|                            0|                            0|                               1|                     0|\n",
            "|4519|         0|             57|            109.4|    0|      1|          0|           1|                       1|              0|           1|                1|             1|      1|              1|           1|           0|                   1|           0|                       0|                 1|                    0|                            1|                            0|                               0|                     0|\n",
            "|6466|         0|             18|            74.15|    0|      0|          0|           1|                       1|              0|           0|                0|             0|      0|              0|           0|           0|                   1|           0|                       1|                 0|                    0|                            0|                            0|                               0|                     1|\n",
            "| 496|         0|             28|             60.9|    0|      1|          0|           1|                       0|              1|           1|                0|             1|      0|              0|           0|           1|                   0|           0|                       1|                 0|                    0|                            0|                            0|                               0|                     1|\n",
            "|7833|         0|             46| 80.8824189403559|    1|      1|          0|           1|                       0|              0|           0|                0|             0|      0|              1|           1|           0|                   1|           0|                       1|                 0|                    0|                            0|                            0|                               1|                     0|\n",
            "|1591|         0|             17|             21.1|    0|      0|          0|           1|                       0|              0|           0|                0|             0|      0|              0|           0|           0|                   0|           1|                       1|                 0|                    0|                            0|                            1|                               0|                     0|\n",
            "|2866|         0|             12|             84.6|    0|      0|          0|           1|                       0|              0|           1|                0|             0|      0|              1|           1|           0|                   1|           0|                       1|                 0|                    0|                            0|                            0|                               1|                     0|\n",
            "|8592|         0|              5|82.71735660557214|    1|      1|          0|           1|                       1|              0|           0|                0|             0|      1|              0|           1|           0|                   1|           0|                       1|                 0|                    0|                            0|                            0|                               1|                     0|\n",
            "|1829|         0|              8|            74.85|    0|      0|          0|           1|                       1|              0|           0|                0|             0|      0|              0|           1|           0|                   1|           0|                       1|                 0|                    0|                            0|                            0|                               1|                     0|\n",
            "| 463|         0|              7|             99.8|    1|      0|          0|           1|                       1|              0|           1|                0|             0|      1|              1|           1|           0|                   1|           0|                       1|                 0|                    0|                            0|                            0|                               1|                     0|\n",
            "|4900|         1|             37|             85.7|    1|      1|          0|           1|                       1|              0|           0|                0|             0|      1|              0|           1|           0|                   1|           0|                       1|                 0|                    0|                            0|                            0|                               1|                     0|\n",
            "|4818|         1|             64|             80.3|    0|      1|          0|           1|                       0|              1|           0|                1|             0|      0|              0|           0|           0|                   1|           0|                       0|                 1|                    0|                            0|                            1|                               0|                     0|\n",
            "|7554|         0|              1|50.74303124820026|    1|      0|          0|           1|                       0|              0|           1|                0|             0|      0|              0|           0|           1|                   0|           0|                       1|                 0|                    0|                            0|                            0|                               1|                     0|\n",
            "|1342|         0|              8|             20.0|    0|      0|          0|           1|                       0|              0|           0|                0|             0|      0|              0|           0|           0|                   0|           1|                       0|                 0|                    1|                            0|                            0|                               0|                     1|\n",
            "|5300|         0|              1|            80.05|    1|      1|          1|           1|                       0|              0|           0|                0|             0|      1|              0|           1|           0|                   1|           0|                       1|                 0|                    0|                            0|                            0|                               0|                     1|\n",
            "+----+----------+---------------+-----------------+-----+-------+-----------+------------+------------------------+---------------+------------+-----------------+--------------+-------+---------------+------------+------------+--------------------+------------+------------------------+------------------+---------------------+-----------------------------+-----------------------------+--------------------------------+----------------------+\n",
            "only showing top 20 rows\n",
            "\n"
          ]
        }
      ]
    },
    {
      "cell_type": "code",
      "source": [
        "from pyspark.ml.feature import VectorAssembler"
      ],
      "metadata": {
        "id": "eMwLH3mOKwBE"
      },
      "execution_count": 38,
      "outputs": []
    },
    {
      "cell_type": "code",
      "source": [
        "dadosD = dadosD.withColumnRenamed('Churn', 'label')"
      ],
      "metadata": {
        "id": "Vis_fzx0K7CH"
      },
      "execution_count": 40,
      "outputs": []
    },
    {
      "cell_type": "code",
      "source": [
        "X = dadosD.columns"
      ],
      "metadata": {
        "id": "G_6Ek86hLQU3"
      },
      "execution_count": 44,
      "outputs": []
    },
    {
      "cell_type": "code",
      "source": [
        "X.remove('label')\n",
        "X.remove('id')"
      ],
      "metadata": {
        "id": "APCJyKIPLWjg"
      },
      "execution_count": 45,
      "outputs": []
    },
    {
      "cell_type": "code",
      "source": [
        "X"
      ],
      "metadata": {
        "colab": {
          "base_uri": "https://localhost:8080/"
        },
        "id": "9zavON78LZSp",
        "outputId": "69b6827d-9db2-4b5a-c229-b5d77fd04626"
      },
      "execution_count": 46,
      "outputs": [
        {
          "output_type": "execute_result",
          "data": {
            "text/plain": [
              "['Mais65anos',\n",
              " 'MesesDeContrato',\n",
              " 'MesesCobrados',\n",
              " 'Conjuge',\n",
              " 'Dependentes',\n",
              " 'TelefoneFixo',\n",
              " 'MaisDeUmaLinhaTelefonica',\n",
              " 'SegurancaOnline',\n",
              " 'BackupOnline',\n",
              " 'SeguroDispositivo',\n",
              " 'SuporteTecnico',\n",
              " 'TVaCabo',\n",
              " 'StreamingFilmes',\n",
              " 'ContaCorreio',\n",
              " 'Internet_DSL',\n",
              " 'Internet_FibraOptica',\n",
              " 'Internet_Nao',\n",
              " 'TipoContrato_Mensalmente',\n",
              " 'TipoContrato_UmAno',\n",
              " 'TipoContrato_DoisAnos',\n",
              " 'MetodoPagamento_DebitoEmConta',\n",
              " 'MetodoPagamento_CartaoCredito',\n",
              " 'MetodoPagamento_BoletoEletronico',\n",
              " 'MetodoPagamento_Boleto']"
            ]
          },
          "metadata": {},
          "execution_count": 46
        }
      ]
    },
    {
      "cell_type": "code",
      "source": [
        "assembler = VectorAssembler(inputCols = X, outputCol = 'features' )"
      ],
      "metadata": {
        "id": "brPp0nciLePm"
      },
      "execution_count": 48,
      "outputs": []
    },
    {
      "cell_type": "code",
      "source": [
        "dadosF = assembler.transform(dadosD).select('features','label')"
      ],
      "metadata": {
        "id": "hlKC8ulrLxpx"
      },
      "execution_count": 50,
      "outputs": []
    },
    {
      "cell_type": "code",
      "source": [
        "dadosF.show()"
      ],
      "metadata": {
        "colab": {
          "base_uri": "https://localhost:8080/"
        },
        "id": "J710atQ2L2_e",
        "outputId": "6900ccd6-dcbc-48db-fab6-5aa32ec36617"
      },
      "execution_count": 51,
      "outputs": [
        {
          "output_type": "stream",
          "name": "stdout",
          "text": [
            "+--------------------+-----+\n",
            "|            features|label|\n",
            "+--------------------+-----+\n",
            "|(24,[1,2,11,12,13...|    1|\n",
            "|(24,[1,2,3,5,6,8,...|    1|\n",
            "|(24,[1,2,5,6,10,1...|    0|\n",
            "|(24,[1,2,3,5,8,12...|    0|\n",
            "|(24,[1,2,3,5,6,11...|    1|\n",
            "|(24,[1,2,5,6,12,1...|    1|\n",
            "|(24,[1,2,3,5,6,8,...|    0|\n",
            "|(24,[1,2,5,6,15,1...|    0|\n",
            "|(24,[1,2,3,5,7,8,...|    0|\n",
            "|(24,[1,2,3,5,12,1...|    1|\n",
            "|(24,[1,2,5,16,17,...|    0|\n",
            "|(24,[1,2,5,8,12,1...|    0|\n",
            "|(24,[1,2,3,5,6,11...|    1|\n",
            "|(24,[1,2,5,6,13,1...|    0|\n",
            "|(24,[1,2,5,6,8,11...|    1|\n",
            "|(24,[0,1,2,3,5,6,...|    1|\n",
            "|(24,[0,1,2,3,5,7,...|    0|\n",
            "|(24,[1,2,5,8,14,1...|    1|\n",
            "|(24,[1,2,5,16,19,...|    0|\n",
            "|(24,[1,2,3,4,5,11...|    1|\n",
            "+--------------------+-----+\n",
            "only showing top 20 rows\n",
            "\n"
          ]
        }
      ]
    },
    {
      "cell_type": "code",
      "source": [
        "seed = 124\n",
        "treino, teste = dadosF.randomSplit([0.7,0.3], seed = seed)"
      ],
      "metadata": {
        "id": "4-WpqcbXMDBW"
      },
      "execution_count": 52,
      "outputs": []
    },
    {
      "cell_type": "code",
      "source": [
        "treino.count()"
      ],
      "metadata": {
        "colab": {
          "base_uri": "https://localhost:8080/"
        },
        "id": "ViBJQsSXNp9y",
        "outputId": "ca5be9bb-e9e4-41d0-9267-2d69a4afb12c"
      },
      "execution_count": 53,
      "outputs": [
        {
          "output_type": "execute_result",
          "data": {
            "text/plain": [
              "7253"
            ]
          },
          "metadata": {},
          "execution_count": 53
        }
      ]
    },
    {
      "cell_type": "code",
      "source": [
        "teste.count()"
      ],
      "metadata": {
        "colab": {
          "base_uri": "https://localhost:8080/"
        },
        "id": "Vf0m-imgNpzy",
        "outputId": "d5bba83a-cd51-441d-8406-76eda8bf6412"
      },
      "execution_count": 54,
      "outputs": [
        {
          "output_type": "execute_result",
          "data": {
            "text/plain": [
              "3095"
            ]
          },
          "metadata": {},
          "execution_count": 54
        }
      ]
    },
    {
      "cell_type": "markdown",
      "source": [
        "#Modelo de Classificação"
      ],
      "metadata": {
        "id": "aud5EqbZN2-e"
      }
    },
    {
      "cell_type": "markdown",
      "source": [
        "##Regressão Logística"
      ],
      "metadata": {
        "id": "UUC6BuTnN7mA"
      }
    },
    {
      "cell_type": "markdown",
      "source": [
        "\n",
        "O primeiro modelo supervisionado que iremos usar é a **regressão logística**, que  prevê a probabilidade de uma variável categórica com base em uma ou mais variáveis independentes em base numa sigmoide de intervalo de 0 a 1.\n",
        "\n"
      ],
      "metadata": {
        "id": "xUXTvjlmMP3s"
      }
    },
    {
      "cell_type": "code",
      "source": [
        "from pyspark.ml.classification import LogisticRegression"
      ],
      "metadata": {
        "id": "DfkxBNT2MRAr"
      },
      "execution_count": 55,
      "outputs": []
    },
    {
      "cell_type": "code",
      "source": [
        "lr = LogisticRegression()"
      ],
      "metadata": {
        "id": "WDe_4dzuOE0t"
      },
      "execution_count": 56,
      "outputs": []
    },
    {
      "cell_type": "code",
      "source": [
        "modelo_lr = lr.fit(treino)"
      ],
      "metadata": {
        "id": "bc0njY5kOHG5"
      },
      "execution_count": 57,
      "outputs": []
    },
    {
      "cell_type": "code",
      "source": [
        "predito_lr = modelo_lr.transform(treino)"
      ],
      "metadata": {
        "id": "VauopmovZs7l"
      },
      "execution_count": 129,
      "outputs": []
    },
    {
      "cell_type": "code",
      "source": [
        "predito_lr_teste = modelo_lr.transform(teste)"
      ],
      "metadata": {
        "id": "rzKOTnz_OKsq"
      },
      "execution_count": 130,
      "outputs": []
    },
    {
      "cell_type": "code",
      "source": [
        "predito_lr_teste.show()"
      ],
      "metadata": {
        "colab": {
          "base_uri": "https://localhost:8080/"
        },
        "id": "PcopaE9OOUF1",
        "outputId": "79281bbc-571b-4821-aa67-dac3576ba9b5"
      },
      "execution_count": 131,
      "outputs": [
        {
          "output_type": "stream",
          "name": "stdout",
          "text": [
            "+--------------------+-----+--------------------+--------------------+----------+\n",
            "|            features|label|       rawPrediction|         probability|prediction|\n",
            "+--------------------+-----+--------------------+--------------------+----------+\n",
            "|(24,[0,1,2,3,4,5,...|    0|[0.75479638722921...|[0.68022290853450...|       0.0|\n",
            "|(24,[0,1,2,3,4,5,...|    0|[0.81958998442710...|[0.69414929825143...|       0.0|\n",
            "|(24,[0,1,2,3,4,5,...|    0|[1.34236042990283...|[0.79287784528464...|       0.0|\n",
            "|(24,[0,1,2,3,4,5,...|    1|[0.26414706491728...|[0.56565545756733...|       0.0|\n",
            "|(24,[0,1,2,3,4,5,...|    0|[-1.3261368054818...|[0.20979910087761...|       1.0|\n",
            "|(24,[0,1,2,3,4,5,...|    0|[-0.2268226481841...|[0.44353621212617...|       1.0|\n",
            "|(24,[0,1,2,3,4,5,...|    1|[-0.0877473148439...|[0.47807723584452...|       1.0|\n",
            "|(24,[0,1,2,3,4,5,...|    0|[0.00257218401401...|[0.50064304564896...|       0.0|\n",
            "|(24,[0,1,2,3,4,5,...|    0|[4.35976419395104...|[0.98737990131881...|       0.0|\n",
            "|(24,[0,1,2,3,4,5,...|    0|[2.20746838322261...|[0.90091817226931...|       0.0|\n",
            "|(24,[0,1,2,3,4,5,...|    0|[4.37405243841801...|[0.98755671045764...|       0.0|\n",
            "|(24,[0,1,2,3,4,5,...|    0|[1.55162991851253...|[0.82514901804998...|       0.0|\n",
            "|(24,[0,1,2,3,4,5,...|    0|[0.71636081802642...|[0.67180514157469...|       0.0|\n",
            "|(24,[0,1,2,3,4,5,...|    0|[1.67099947849699...|[0.84170903209456...|       0.0|\n",
            "|(24,[0,1,2,3,4,5,...|    1|[-0.2991787505796...|[0.42575825669828...|       1.0|\n",
            "|(24,[0,1,2,3,4,5,...|    0|[0.67208662376863...|[0.66197023160190...|       0.0|\n",
            "|(24,[0,1,2,3,4,5,...|    1|[-0.6320044377637...|[0.34705617666012...|       1.0|\n",
            "|(24,[0,1,2,3,4,5,...|    1|[-1.0154231584103...|[0.26591987202718...|       1.0|\n",
            "|(24,[0,1,2,3,4,11...|    0|[0.09000640949540...|[0.52248642392498...|       0.0|\n",
            "|(24,[0,1,2,3,5,6,...|    0|[1.82482106289565...|[0.86114361137884...|       0.0|\n",
            "+--------------------+-----+--------------------+--------------------+----------+\n",
            "only showing top 20 rows\n",
            "\n"
          ]
        }
      ]
    },
    {
      "cell_type": "markdown",
      "source": [
        "##Árvore de Decisão"
      ],
      "metadata": {
        "id": "AM5xMvzbTnn2"
      }
    },
    {
      "cell_type": "markdown",
      "source": [
        "O segundo modelo que usaremos é a **árvore de decisão** -  um modelo de aprendizado de máquina que toma decisões com base em condições simples sobre as características dos dados. Ela é chamada de \"árvore\" porque se assemelha a uma estrutura de árvore invertida, com um nó raiz, nós internos representando características e nós folha representando as decisões ou resultados."
      ],
      "metadata": {
        "id": "rJRLN0nJT9dv"
      }
    },
    {
      "cell_type": "code",
      "source": [
        "from pyspark.ml.classification import DecisionTreeClassifier"
      ],
      "metadata": {
        "id": "NiIUyfbCUSU-"
      },
      "execution_count": 100,
      "outputs": []
    },
    {
      "cell_type": "code",
      "source": [
        "dtc = DecisionTreeClassifier(seed = seed, maxDepth = 5)"
      ],
      "metadata": {
        "id": "-_V3XQNQUe8M"
      },
      "execution_count": 105,
      "outputs": []
    },
    {
      "cell_type": "code",
      "source": [
        "modelo_dtc = dtc.fit(treino)"
      ],
      "metadata": {
        "id": "YK6B9MboUq10"
      },
      "execution_count": 106,
      "outputs": []
    },
    {
      "cell_type": "code",
      "source": [
        "predito_dtc = modelo_dtc.transform(treino)\n",
        "predito_dtc.show()"
      ],
      "metadata": {
        "colab": {
          "base_uri": "https://localhost:8080/"
        },
        "id": "b-h7-UdIU_Zq",
        "outputId": "6daad8f0-2360-4283-bcc6-20f77fd5d83b"
      },
      "execution_count": 116,
      "outputs": [
        {
          "output_type": "stream",
          "name": "stdout",
          "text": [
            "+--------------------+-----+--------------+--------------------+----------+\n",
            "|            features|label| rawPrediction|         probability|prediction|\n",
            "+--------------------+-----+--------------+--------------------+----------+\n",
            "|(24,[0,1,2,3,4,5,...|    0|[2072.0,318.0]|[0.86694560669456...|       0.0|\n",
            "|(24,[0,1,2,3,4,5,...|    0|[2072.0,318.0]|[0.86694560669456...|       0.0|\n",
            "|(24,[0,1,2,3,4,5,...|    0|    [24.0,5.0]|[0.82758620689655...|       0.0|\n",
            "|(24,[0,1,2,3,4,5,...|    0|[2072.0,318.0]|[0.86694560669456...|       0.0|\n",
            "|(24,[0,1,2,3,4,5,...|    0| [106.0,165.0]|[0.39114391143911...|       1.0|\n",
            "|(24,[0,1,2,3,4,5,...|    0|    [24.0,5.0]|[0.82758620689655...|       0.0|\n",
            "|(24,[0,1,2,3,4,5,...|    1|[425.0,2103.0]|[0.16811708860759...|       1.0|\n",
            "|(24,[0,1,2,3,4,5,...|    1|[425.0,2103.0]|[0.16811708860759...|       1.0|\n",
            "|(24,[0,1,2,3,4,5,...|    0|[425.0,2103.0]|[0.16811708860759...|       1.0|\n",
            "|(24,[0,1,2,3,4,5,...|    0|[425.0,2103.0]|[0.16811708860759...|       1.0|\n",
            "|(24,[0,1,2,3,4,5,...|    0|[425.0,2103.0]|[0.16811708860759...|       1.0|\n",
            "|(24,[0,1,2,3,4,5,...|    1| [230.0,217.0]|[0.51454138702460...|       0.0|\n",
            "|(24,[0,1,2,3,4,5,...|    0|[2072.0,318.0]|[0.86694560669456...|       0.0|\n",
            "|(24,[0,1,2,3,4,5,...|    0| [230.0,217.0]|[0.51454138702460...|       0.0|\n",
            "|(24,[0,1,2,3,4,5,...|    0|  [41.0,119.0]|   [0.25625,0.74375]|       1.0|\n",
            "|(24,[0,1,2,3,4,5,...|    0|[425.0,2103.0]|[0.16811708860759...|       1.0|\n",
            "|(24,[0,1,2,3,4,5,...|    0|[2072.0,318.0]|[0.86694560669456...|       0.0|\n",
            "|(24,[0,1,2,3,4,5,...|    0|  [41.0,119.0]|   [0.25625,0.74375]|       1.0|\n",
            "|(24,[0,1,2,3,4,5,...|    0|[2072.0,318.0]|[0.86694560669456...|       0.0|\n",
            "|(24,[0,1,2,3,4,5,...|    1| [281.0,557.0]|[0.33532219570405...|       1.0|\n",
            "+--------------------+-----+--------------+--------------------+----------+\n",
            "only showing top 20 rows\n",
            "\n"
          ]
        }
      ]
    },
    {
      "cell_type": "code",
      "source": [
        "predito_dtc_teste = modelo_dtc.transform(teste)"
      ],
      "metadata": {
        "id": "9HsWJIEvZZLC"
      },
      "execution_count": 128,
      "outputs": []
    },
    {
      "cell_type": "markdown",
      "source": [
        "##Random Forest"
      ],
      "metadata": {
        "id": "N2Vd6mNRcHC9"
      }
    },
    {
      "cell_type": "markdown",
      "source": [
        "O terceiro modelo que usaremos é o **random forest classifier**, que combina múltiplas árvores de decisão para fazer previsões mais precisas. Cada árvore é treinada em uma subamostra aleatória dos dados, e as previsões finais são obtidas através da votação das previsões individuais das árvores"
      ],
      "metadata": {
        "id": "jqzV0WgkckXP"
      }
    },
    {
      "cell_type": "code",
      "source": [
        "from pyspark.ml.classification import RandomForestClassifier"
      ],
      "metadata": {
        "id": "s2f-ZRDrcLpa"
      },
      "execution_count": 136,
      "outputs": []
    },
    {
      "cell_type": "code",
      "source": [
        "rfc = RandomForestClassifier(seed = seed, maxDepth = 5, numTrees=10)\n",
        "modelo_rfc = rfc.fit(treino)"
      ],
      "metadata": {
        "id": "CTH-y-76c5z1"
      },
      "execution_count": 139,
      "outputs": []
    },
    {
      "cell_type": "code",
      "source": [
        "predito_rfc = modelo_rfc.transform(treino)\n",
        "predito_rfc.show()"
      ],
      "metadata": {
        "colab": {
          "base_uri": "https://localhost:8080/"
        },
        "id": "0stNOwGvdXok",
        "outputId": "9b7391ae-633d-422d-8db5-8de23708fdfc"
      },
      "execution_count": 141,
      "outputs": [
        {
          "output_type": "stream",
          "name": "stdout",
          "text": [
            "+--------------------+-----+--------------------+--------------------+----------+\n",
            "|            features|label|       rawPrediction|         probability|prediction|\n",
            "+--------------------+-----+--------------------+--------------------+----------+\n",
            "|(24,[0,1,2,3,4,5,...|    0|[8.20674462409238...|[0.82067446240923...|       0.0|\n",
            "|(24,[0,1,2,3,4,5,...|    0|[7.65056169137184...|[0.76505616913718...|       0.0|\n",
            "|(24,[0,1,2,3,4,5,...|    0|[3.11833301758737...|[0.31183330175873...|       1.0|\n",
            "|(24,[0,1,2,3,4,5,...|    0|[7.96711826649231...|[0.79671182664923...|       0.0|\n",
            "|(24,[0,1,2,3,4,5,...|    0|[2.53509894968981...|[0.25350989496898...|       1.0|\n",
            "|(24,[0,1,2,3,4,5,...|    0|[3.11833301758737...|[0.31183330175873...|       1.0|\n",
            "|(24,[0,1,2,3,4,5,...|    1|[4.23257826589132...|[0.42325782658913...|       1.0|\n",
            "|(24,[0,1,2,3,4,5,...|    1|[2.50065683339856...|[0.25006568333985...|       1.0|\n",
            "|(24,[0,1,2,3,4,5,...|    0|[2.50065683339856...|[0.25006568333985...|       1.0|\n",
            "|(24,[0,1,2,3,4,5,...|    0|[2.50065683339856...|[0.25006568333985...|       1.0|\n",
            "|(24,[0,1,2,3,4,5,...|    0|[4.20181447522654...|[0.42018144752265...|       1.0|\n",
            "|(24,[0,1,2,3,4,5,...|    1|[4.81871696700668...|[0.48187169670066...|       1.0|\n",
            "|(24,[0,1,2,3,4,5,...|    0|[7.04959628303938...|[0.70495962830393...|       0.0|\n",
            "|(24,[0,1,2,3,4,5,...|    0|[4.81871696700668...|[0.48187169670066...|       1.0|\n",
            "|(24,[0,1,2,3,4,5,...|    0|[3.35449583707944...|[0.33544958370794...|       1.0|\n",
            "|(24,[0,1,2,3,4,5,...|    0|[1.97368099138030...|[0.19736809913803...|       1.0|\n",
            "|(24,[0,1,2,3,4,5,...|    0|[7.04959628303938...|[0.70495962830393...|       0.0|\n",
            "|(24,[0,1,2,3,4,5,...|    0|[3.35449583707944...|[0.33544958370794...|       1.0|\n",
            "|(24,[0,1,2,3,4,5,...|    0|[8.04898443572813...|[0.80489844357281...|       0.0|\n",
            "|(24,[0,1,2,3,4,5,...|    1|[3.85012060162851...|[0.38501206016285...|       1.0|\n",
            "+--------------------+-----+--------------------+--------------------+----------+\n",
            "only showing top 20 rows\n",
            "\n"
          ]
        }
      ]
    },
    {
      "cell_type": "code",
      "source": [
        "predito_rfc_teste = modelo_rfc.transform(teste)"
      ],
      "metadata": {
        "id": "eNhKqYKNdlsM"
      },
      "execution_count": 142,
      "outputs": []
    },
    {
      "cell_type": "markdown",
      "source": [
        "#Métricas"
      ],
      "metadata": {
        "id": "XYk9clJpOwD6"
      }
    },
    {
      "cell_type": "code",
      "source": [
        "def calcula_matriz_confusao(df_transform_modelo, normalize = False, percentage = True):\n",
        "  tp = df_transform_modelo.select('label','prediction').where((f.col('label') == 1) & (f.col('prediction') == 1)).count()\n",
        "  tn = df_transform_modelo.select('label','prediction').where((f.col('label') == 0) & (f.col('prediction') == 0)).count()\n",
        "  fp = df_transform_modelo.select('label','prediction').where((f.col('label') == 0) & (f.col('prediction') == 1)).count()\n",
        "  fn = df_transform_modelo.select('label','prediction').where((f.col('label') == 1) & (f.col('prediction') == 0)).count()\n",
        "\n",
        "  valorP = 1\n",
        "  valorN = 1\n",
        "\n",
        "  if normalize:\n",
        "    valorP = tp + fn\n",
        "    valorN = fp + tn\n",
        "\n",
        "  if percentage and normalize:\n",
        "    valorP = valorP / 100\n",
        "    valorN = valorN / 100\n",
        "\n",
        "  print(' '*20, 'Previsto')\n",
        "  print(' '*4,'-'*3)\n",
        "  print(' '*4,'|',' '*9, 'Churn', ' '*5 ,'Não-Churn')\n",
        "  print(' '*4,'|','Churn', ' '*6, int(tp/valorP), ' '*7, int(fn/valorP))\n",
        "  print('Real','|')\n",
        "  print(' '*4,'|', 'Não-Churn', ' '*2, int(fp/valorN), ' '*7, int(tn/valorN))"
      ],
      "metadata": {
        "id": "NrxLhdpPO-18"
      },
      "execution_count": 98,
      "outputs": []
    },
    {
      "cell_type": "code",
      "source": [
        "from pyspark.ml.evaluation import MulticlassClassificationEvaluator\n",
        "\n",
        "evaluator = MulticlassClassificationEvaluator()"
      ],
      "metadata": {
        "id": "Ffm_kw8nWd5W"
      },
      "execution_count": 112,
      "outputs": []
    },
    {
      "cell_type": "code",
      "source": [
        "def evaluator_ml(predito_ml):\n",
        "  print(\"Acurácia: %f\" % evaluator.evaluate(predito_ml, {evaluator.metricName: \"accuracy\"}))\n",
        "  print(\"Precisão: %f\" % evaluator.evaluate(predito_ml, {evaluator.metricName: \"precisionByLabel\", evaluator.metricLabel: 1}))\n",
        "  print(\"Recall: %f\" % evaluator.evaluate(predito_ml, {evaluator.metricName: \"recallByLabel\", evaluator.metricLabel: 1}))\n",
        "  print(\"F1: %f\" % evaluator.evaluate(predito_ml, {evaluator.metricName: \"fMeasureByLabel\", evaluator.metricLabel: 1}))"
      ],
      "metadata": {
        "id": "55lRy4IcWtFK"
      },
      "execution_count": 113,
      "outputs": []
    },
    {
      "cell_type": "code",
      "source": [
        "def print_modelo_metrica(modelo,predito_ml, predito_ml_teste):\n",
        "  print('\\n              ',modelo,' \\n')\n",
        "  print(50*('-'))\n",
        "  print('\\n Dados de Treino \\n')\n",
        "  print(50*('-'))\n",
        "  print('  Métricas')\n",
        "  print(50*('-'),'\\n')\n",
        "  evaluator_ml(predito_ml)\n",
        "  print('\\n')\n",
        "  print(50*('-'))\n",
        "  print('Matriz de Confusão')\n",
        "  print(50*('-'))\n",
        "  calcula_matriz_confusao(predito_ml, normalize=False)\n",
        "  print('\\n',50*('-'))\n",
        "  print('\\n Dados de Teste \\n')\n",
        "  print(50*('-'))\n",
        "  print('  Métricas')\n",
        "  print(50*('-'),'\\n')\n",
        "  evaluator_ml(predito_ml_teste)\n",
        "  print('\\n')\n",
        "  print(50*('-'))\n",
        "  print('Matriz de Confusão')\n",
        "  print(50*('-'))\n",
        "  calcula_matriz_confusao(predito_ml_teste, normalize=False)"
      ],
      "metadata": {
        "id": "8lMIBCafV6xd"
      },
      "execution_count": 144,
      "outputs": []
    },
    {
      "cell_type": "code",
      "source": [
        "print_modelo_metrica('REGRESSÃO LOGÍSTICA',predito_lr,predito_lr_teste)"
      ],
      "metadata": {
        "colab": {
          "base_uri": "https://localhost:8080/"
        },
        "id": "XQMXYy4vRpQM",
        "outputId": "5cabee05-6681-4d9b-b2bf-5c6f5680dc83"
      },
      "execution_count": 145,
      "outputs": [
        {
          "output_type": "stream",
          "name": "stdout",
          "text": [
            "\n",
            "               REGRESSÃO LOGÍSTICA  \n",
            "\n",
            "--------------------------------------------------\n",
            "\n",
            " Dados de Treino \n",
            "\n",
            "--------------------------------------------------\n",
            "  Métricas\n",
            "-------------------------------------------------- \n",
            "\n",
            "Acurácia: 0.792086\n",
            "Precisão: 0.774160\n",
            "Recall: 0.828078\n",
            "F1: 0.800212\n",
            "\n",
            "\n",
            "--------------------------------------------------\n",
            "Matriz de Confusão\n",
            "--------------------------------------------------\n",
            "                     Previsto\n",
            "     --------------------------------\n",
            "     |           Churn       Não-Churn\n",
            "     | Churn        3020         627\n",
            "Real |\n",
            "     | Não-Churn    881         2725\n",
            "\n",
            " --------------------------------------------------\n",
            "\n",
            " Dados de Teste \n",
            "\n",
            "--------------------------------------------------\n",
            "  Métricas\n",
            "-------------------------------------------------- \n",
            "\n",
            "Acurácia: 0.771244\n",
            "Precisão: 0.751073\n",
            "Recall: 0.802227\n",
            "F1: 0.775807\n",
            "\n",
            "\n",
            "--------------------------------------------------\n",
            "Matriz de Confusão\n",
            "--------------------------------------------------\n",
            "                     Previsto\n",
            "     --------------------------------\n",
            "     |           Churn       Não-Churn\n",
            "     | Churn        1225         302\n",
            "Real |\n",
            "     | Não-Churn    406         1162\n"
          ]
        }
      ]
    },
    {
      "cell_type": "code",
      "source": [
        "print_modelo_metrica('ARVORE DE DECISÃO',predito_dtc,predito_dtc_teste)\n"
      ],
      "metadata": {
        "colab": {
          "base_uri": "https://localhost:8080/"
        },
        "id": "Zu2b20EbaptA",
        "outputId": "a65ec320-e984-4fa9-e52f-0e1f26dfd43d"
      },
      "execution_count": 146,
      "outputs": [
        {
          "output_type": "stream",
          "name": "stdout",
          "text": [
            "\n",
            "               ARVORE DE DECISÃO  \n",
            "\n",
            "--------------------------------------------------\n",
            "\n",
            " Dados de Treino \n",
            "\n",
            "--------------------------------------------------\n",
            "  Métricas\n",
            "-------------------------------------------------- \n",
            "\n",
            "Acurácia: 0.786020\n",
            "Precisão: 0.773856\n",
            "Recall: 0.811626\n",
            "F1: 0.792291\n",
            "\n",
            "\n",
            "--------------------------------------------------\n",
            "Matriz de Confusão\n",
            "--------------------------------------------------\n",
            "                     Previsto\n",
            "     --------------------------------\n",
            "     |           Churn       Não-Churn\n",
            "     | Churn        2960         687\n",
            "Real |\n",
            "     | Não-Churn    865         2741\n",
            "\n",
            " --------------------------------------------------\n",
            "\n",
            " Dados de Teste \n",
            "\n",
            "--------------------------------------------------\n",
            "  Métricas\n",
            "-------------------------------------------------- \n",
            "\n",
            "Acurácia: 0.774152\n",
            "Precisão: 0.755556\n",
            "Recall: 0.801572\n",
            "F1: 0.777884\n",
            "\n",
            "\n",
            "--------------------------------------------------\n",
            "Matriz de Confusão\n",
            "--------------------------------------------------\n",
            "                     Previsto\n",
            "     --------------------------------\n",
            "     |           Churn       Não-Churn\n",
            "     | Churn        1224         303\n",
            "Real |\n",
            "     | Não-Churn    396         1172\n"
          ]
        }
      ]
    },
    {
      "cell_type": "code",
      "source": [
        "print_modelo_metrica('RANDOM FOREST CLASSIFIER',predito_rfc,predito_rfc_teste)"
      ],
      "metadata": {
        "colab": {
          "base_uri": "https://localhost:8080/"
        },
        "id": "zNzY3GgTeKI5",
        "outputId": "87f2a304-33c8-4230-d1e1-005ffadafda9"
      },
      "execution_count": 147,
      "outputs": [
        {
          "output_type": "stream",
          "name": "stdout",
          "text": [
            "\n",
            "               RANDOM FOREST CLASSIFIER  \n",
            "\n",
            "--------------------------------------------------\n",
            "\n",
            " Dados de Treino \n",
            "\n",
            "--------------------------------------------------\n",
            "  Métricas\n",
            "-------------------------------------------------- \n",
            "\n",
            "Acurácia: 0.799118\n",
            "Precisão: 0.774161\n",
            "Recall: 0.847820\n",
            "F1: 0.809318\n",
            "\n",
            "\n",
            "--------------------------------------------------\n",
            "Matriz de Confusão\n",
            "--------------------------------------------------\n",
            "                     Previsto\n",
            "     --------------------------------\n",
            "     |           Churn       Não-Churn\n",
            "     | Churn        3092         555\n",
            "Real |\n",
            "     | Não-Churn    902         2704\n",
            "\n",
            " --------------------------------------------------\n",
            "\n",
            " Dados de Teste \n",
            "\n",
            "--------------------------------------------------\n",
            "  Métricas\n",
            "-------------------------------------------------- \n",
            "\n",
            "Acurácia: 0.783522\n",
            "Precisão: 0.757977\n",
            "Recall: 0.824492\n",
            "F1: 0.789837\n",
            "\n",
            "\n",
            "--------------------------------------------------\n",
            "Matriz de Confusão\n",
            "--------------------------------------------------\n",
            "                     Previsto\n",
            "     --------------------------------\n",
            "     |           Churn       Não-Churn\n",
            "     | Churn        1259         268\n",
            "Real |\n",
            "     | Não-Churn    402         1166\n"
          ]
        }
      ]
    },
    {
      "cell_type": "markdown",
      "source": [
        "#Cross Validation"
      ],
      "metadata": {
        "id": "c_9dWVGmpKzf"
      }
    },
    {
      "cell_type": "markdown",
      "source": [
        "##Regressão Logística"
      ],
      "metadata": {
        "id": "mrsdcZ2kt9i1"
      }
    },
    {
      "cell_type": "code",
      "source": [
        "grid = paramGrid = ParamGridBuilder() \\\n",
        "    .addGrid(lr.regParam, [0.01, 0.1, 0.5]) \\\n",
        "    .addGrid(lr.elasticNetParam, [0.0, 0.5, 1.0]) \\\n",
        "    .build()\n",
        "\n",
        "evaluator = MulticlassClassificationEvaluator()\n",
        "\n",
        "lr_cv = CrossValidator(\n",
        "    estimator=lr,\n",
        "    estimatorParamMaps=grid,\n",
        "    evaluator=evaluator,\n",
        "    numFolds=3,\n",
        "    seed = seed\n",
        ")\n",
        "\n",
        "\n",
        "modelo_lr_cv = lr_cv.fit(treino)"
      ],
      "metadata": {
        "id": "lgq1w0OyuETs"
      },
      "execution_count": 163,
      "outputs": []
    },
    {
      "cell_type": "code",
      "source": [
        "previsoes_lr_cv_teste = modelo_lr_cv.transform(teste)"
      ],
      "metadata": {
        "id": "NYb4UBd-v7f5"
      },
      "execution_count": 164,
      "outputs": []
    },
    {
      "cell_type": "code",
      "source": [
        "print('  Métricas')\n",
        "print(50*('-'),'\\n')\n",
        "evaluator_ml(previsoes_lr_cv_teste)\n",
        "print('\\n')\n",
        "print(50*('-'))\n",
        "print('Matriz de Confusão')\n",
        "print(50*('-'))\n",
        "calcula_matriz_confusao(previsoes_lr_cv_teste, normalize=False)"
      ],
      "metadata": {
        "colab": {
          "base_uri": "https://localhost:8080/"
        },
        "id": "3AbkDiTDv_rG",
        "outputId": "58855f22-8680-461b-c75a-6f4bafc1ef42"
      },
      "execution_count": 165,
      "outputs": [
        {
          "output_type": "stream",
          "name": "stdout",
          "text": [
            "  Métricas\n",
            "-------------------------------------------------- \n",
            "\n",
            "Acurácia: 0.770921\n",
            "Precisão: 0.747279\n",
            "Recall: 0.809430\n",
            "F1: 0.777114\n",
            "\n",
            "\n",
            "--------------------------------------------------\n",
            "Matriz de Confusão\n",
            "--------------------------------------------------\n",
            "                     Previsto\n",
            "     --------------------------------\n",
            "     |           Churn       Não-Churn\n",
            "     | Churn        1236         291\n",
            "Real |\n",
            "     | Não-Churn    418         1150\n"
          ]
        }
      ]
    },
    {
      "cell_type": "markdown",
      "source": [
        "##Arvore de Decisão"
      ],
      "metadata": {
        "id": "yToWpVtzpUYh"
      }
    },
    {
      "cell_type": "code",
      "source": [
        "from pyspark.ml.tuning import CrossValidator, ParamGridBuilder\n",
        "\n",
        "grid = ParamGridBuilder() \\\n",
        "    .addGrid(dtc.maxDepth, [2,5, 10]) \\\n",
        "    .addGrid(dtc.maxBins, [10, 32, 45]) \\\n",
        "    .build()\n",
        "\n",
        "evaluator = MulticlassClassificationEvaluator()\n"
      ],
      "metadata": {
        "id": "tpobVtmQpPbs"
      },
      "execution_count": 149,
      "outputs": []
    },
    {
      "cell_type": "code",
      "source": [
        "dtc_cv = CrossValidator(\n",
        "    estimator=dtc,\n",
        "    estimatorParamMaps=grid,\n",
        "    evaluator=evaluator,\n",
        "    numFolds=3,\n",
        "    seed = seed\n",
        ")"
      ],
      "metadata": {
        "id": "8dJC9XLup18D"
      },
      "execution_count": 151,
      "outputs": []
    },
    {
      "cell_type": "code",
      "source": [
        "modelo_dtc_cv = dtc_cv.fit(treino)"
      ],
      "metadata": {
        "id": "Gf08C142qJvX"
      },
      "execution_count": 152,
      "outputs": []
    },
    {
      "cell_type": "code",
      "source": [
        "previsoes_dtc_cv_teste = modelo_dtc_cv.transform(teste)"
      ],
      "metadata": {
        "id": "MLBgVd3zqS0t"
      },
      "execution_count": 153,
      "outputs": []
    },
    {
      "cell_type": "code",
      "source": [
        "print('  Métricas')\n",
        "print(50*('-'),'\\n')\n",
        "evaluator_ml(previsoes_dtc_cv_teste)\n",
        "print('\\n')\n",
        "print(50*('-'))\n",
        "print('Matriz de Confusão')\n",
        "print(50*('-'))\n",
        "calcula_matriz_confusao(previsoes_dtc_cv_teste, normalize=False)"
      ],
      "metadata": {
        "colab": {
          "base_uri": "https://localhost:8080/"
        },
        "id": "7TRNXR2TqqyQ",
        "outputId": "85caa043-e720-4f95-bbd6-a2634754dcda"
      },
      "execution_count": 154,
      "outputs": [
        {
          "output_type": "stream",
          "name": "stdout",
          "text": [
            "  Métricas\n",
            "-------------------------------------------------- \n",
            "\n",
            "Acurácia: 0.794507\n",
            "Precisão: 0.759767\n",
            "Recall: 0.853307\n",
            "F1: 0.803825\n",
            "\n",
            "\n",
            "--------------------------------------------------\n",
            "Matriz de Confusão\n",
            "--------------------------------------------------\n",
            "                     Previsto\n",
            "     --------------------------------\n",
            "     |           Churn       Não-Churn\n",
            "     | Churn        1303         224\n",
            "Real |\n",
            "     | Não-Churn    412         1156\n"
          ]
        }
      ]
    },
    {
      "cell_type": "code",
      "source": [],
      "metadata": {
        "id": "qOD8SuEEq-ni"
      },
      "execution_count": null,
      "outputs": []
    },
    {
      "cell_type": "markdown",
      "source": [
        "## Random Forest"
      ],
      "metadata": {
        "id": "-EdQd15OryR2"
      }
    },
    {
      "cell_type": "code",
      "source": [
        "grid = ParamGridBuilder()\\\n",
        "        .addGrid(rfc.maxDepth, [2, 5, 10])\\\n",
        "        .addGrid(rfc.maxBins, [10, 32, 45])\\\n",
        "        .addGrid(rfc.numTrees, [10, 20, 50])\\\n",
        "        .build()"
      ],
      "metadata": {
        "id": "gaVaIbWfr1f8"
      },
      "execution_count": 156,
      "outputs": []
    },
    {
      "cell_type": "code",
      "source": [
        "evaluator = MulticlassClassificationEvaluator()"
      ],
      "metadata": {
        "id": "YX3rVpcir4cR"
      },
      "execution_count": 157,
      "outputs": []
    },
    {
      "cell_type": "code",
      "source": [
        "rfc_cv = CrossValidator(\n",
        "    estimator=rfc,\n",
        "    estimatorParamMaps=grid,\n",
        "    evaluator=evaluator,\n",
        "    numFolds=3,\n",
        "    seed=seed\n",
        ")"
      ],
      "metadata": {
        "id": "4X9D2YObr_ff"
      },
      "execution_count": 159,
      "outputs": []
    },
    {
      "cell_type": "code",
      "source": [
        "modelo_rfc_cv = rfc_cv.fit(treino)"
      ],
      "metadata": {
        "id": "aI_Ycb92sApr"
      },
      "execution_count": 160,
      "outputs": []
    },
    {
      "cell_type": "code",
      "source": [
        "previsoes_rfc_cv_teste = modelo_rfc_cv.transform(teste)"
      ],
      "metadata": {
        "id": "poHqVM4MsEbJ"
      },
      "execution_count": 161,
      "outputs": []
    },
    {
      "cell_type": "code",
      "source": [
        "print('  Métricas')\n",
        "print(50*('-'),'\\n')\n",
        "evaluator_ml(previsoes_rfc_cv_teste)\n",
        "print('\\n')\n",
        "print(50*('-'))\n",
        "print('Matriz de Confusão')\n",
        "print(50*('-'))\n",
        "calcula_matriz_confusao(previsoes_rfc_cv_teste, normalize=False)"
      ],
      "metadata": {
        "colab": {
          "base_uri": "https://localhost:8080/"
        },
        "id": "6Lm135E8sKXb",
        "outputId": "a8e4b448-f4a5-482d-80ef-a528244d0c3c"
      },
      "execution_count": 162,
      "outputs": [
        {
          "output_type": "stream",
          "name": "stdout",
          "text": [
            "  Métricas\n",
            "-------------------------------------------------- \n",
            "\n",
            "Acurácia: 0.805170\n",
            "Precisão: 0.782051\n",
            "Recall: 0.838900\n",
            "F1: 0.809479\n",
            "\n",
            "\n",
            "--------------------------------------------------\n",
            "Matriz de Confusão\n",
            "--------------------------------------------------\n",
            "                     Previsto\n",
            "     --------------------------------\n",
            "     |           Churn       Não-Churn\n",
            "     | Churn        1281         246\n",
            "Real |\n",
            "     | Não-Churn    357         1211\n"
          ]
        }
      ]
    },
    {
      "cell_type": "code",
      "source": [],
      "metadata": {
        "id": "yyCYQ9rKtPRt"
      },
      "execution_count": null,
      "outputs": []
    },
    {
      "cell_type": "markdown",
      "source": [
        "****\n",
        "****\n",
        "# <font color=red size=8>Conclusão: Melhor Modelo <font>"
      ],
      "metadata": {
        "id": "t3jETMwNwGGw"
      }
    },
    {
      "cell_type": "markdown",
      "source": [
        "Dada a meta da empresa de manter uma base de clientes estável e evitar o cancelamento, os falsos negativos tornam-se mais críticos. Isso ocorre quando o modelo não prevê o churn, mas o cliente acaba cancelando, resultando na perda da oportunidade de tomar medidas para reter o cliente. Nesse contexto específico, em que é fundamental evitar a perda de clientes, optamos por utilizar um modelo de árvore de decisão. A razão para essa escolha reside no foco prioritário no Recall, que se torna de suma importância. O Recall destaca-se, neste momento, como uma métrica crucial, superando a precisão. Embora a Precisão tenha sido melhor na Random Forest, a decisão foi direcionada pelo valor crítico atribuído ao Recall, alinhando-se com nossa estratégia de retenção de clientes."
      ],
      "metadata": {
        "id": "m4jJsMl60CcK"
      }
    },
    {
      "cell_type": "code",
      "source": [
        "melhor_modelo_dtc_cv = modelo_rfc_cv.bestModel\n",
        "\n",
        "print(melhor_modelo_dtc_cv.getMaxDepth())\n",
        "print(melhor_modelo_dtc_cv.getMaxBins())\n"
      ],
      "metadata": {
        "colab": {
          "base_uri": "https://localhost:8080/"
        },
        "id": "K7Z6AUgNwK34",
        "outputId": "b4dce6fd-5217-4337-e610-906f19dfe262"
      },
      "execution_count": 166,
      "outputs": [
        {
          "output_type": "stream",
          "name": "stdout",
          "text": [
            "10\n",
            "45\n"
          ]
        }
      ]
    },
    {
      "cell_type": "code",
      "source": [
        "dtc_tunning = DecisionTreeClassifier(maxDepth=10, maxBins=45, seed=seed)\n",
        "modelo_dtc_tunning = dtc_tunning.fit(dadosF)"
      ],
      "metadata": {
        "id": "jxTVwBbx0OHh"
      },
      "execution_count": 175,
      "outputs": []
    },
    {
      "cell_type": "markdown",
      "source": [
        "###Novo Cliente"
      ],
      "metadata": {
        "id": "201ICc0k0wAX"
      }
    },
    {
      "cell_type": "code",
      "source": [
        "novo_cliente = [{\n",
        "    'Mais65anos': 0,\n",
        "    'MesesDeContrato': 1,\n",
        "    'MesesCobrados': 45.30540797610398,\n",
        "    'Conjuge': 0,\n",
        "    'Dependentes': 0,\n",
        "    'TelefoneFixo': 0,\n",
        "    'MaisDeUmaLinhaTelefonica': 0,\n",
        "    'SegurancaOnline': 0,\n",
        "    'BackupOnline': 0,\n",
        "    'SeguroDispositivo': 0,\n",
        "    'SuporteTecnico': 0,\n",
        "    'TVaCabo': 1,\n",
        "    'StreamingFilmes': 1,\n",
        "    'ContaCorreio': 1,\n",
        "    'Internet_DSL': 1,\n",
        "    'Internet_FibraOptica': 0,\n",
        "    'Internet_Nao': 0,\n",
        "    'TipoContrato_Mensalmente': 1,\n",
        "    'TipoContrato_UmAno': 0,\n",
        "    'TipoContrato_DoisAnos': 0,\n",
        "    'MetodoPagamento_DebitoEmConta': 0,\n",
        "    'MetodoPagamento_CartaoCredito': 0,\n",
        "    'MetodoPagamento_BoletoEletronico': 1,\n",
        "    'MetodoPagamento_Boleto': 0\n",
        "}]"
      ],
      "metadata": {
        "id": "r3yJYkYm0q8M"
      },
      "execution_count": 168,
      "outputs": []
    },
    {
      "cell_type": "code",
      "source": [
        "novo_cliente = spark.createDataFrame(novo_cliente)\n",
        "novo_cliente.show()"
      ],
      "metadata": {
        "colab": {
          "base_uri": "https://localhost:8080/"
        },
        "id": "aFbjSyXB0ylW",
        "outputId": "7c1ab6f8-53cc-42d9-bdf8-eab133784755"
      },
      "execution_count": 169,
      "outputs": [
        {
          "output_type": "stream",
          "name": "stdout",
          "text": [
            "+------------+-------+------------+-----------+------------+--------------------+------------+----------+------------------------+-----------------+---------------+----------------------+--------------------------------+-----------------------------+-----------------------------+---------------+-----------------+---------------+--------------+-------+------------+---------------------+------------------------+------------------+\n",
            "|BackupOnline|Conjuge|ContaCorreio|Dependentes|Internet_DSL|Internet_FibraOptica|Internet_Nao|Mais65anos|MaisDeUmaLinhaTelefonica|    MesesCobrados|MesesDeContrato|MetodoPagamento_Boleto|MetodoPagamento_BoletoEletronico|MetodoPagamento_CartaoCredito|MetodoPagamento_DebitoEmConta|SegurancaOnline|SeguroDispositivo|StreamingFilmes|SuporteTecnico|TVaCabo|TelefoneFixo|TipoContrato_DoisAnos|TipoContrato_Mensalmente|TipoContrato_UmAno|\n",
            "+------------+-------+------------+-----------+------------+--------------------+------------+----------+------------------------+-----------------+---------------+----------------------+--------------------------------+-----------------------------+-----------------------------+---------------+-----------------+---------------+--------------+-------+------------+---------------------+------------------------+------------------+\n",
            "|           0|      0|           1|          0|           1|                   0|           0|         0|                       0|45.30540797610398|              1|                     0|                               1|                            0|                            0|              0|                0|              1|             0|      1|           0|                    0|                       1|                 0|\n",
            "+------------+-------+------------+-----------+------------+--------------------+------------+----------+------------------------+-----------------+---------------+----------------------+--------------------------------+-----------------------------+-----------------------------+---------------+-----------------+---------------+--------------+-------+------------+---------------------+------------------------+------------------+\n",
            "\n"
          ]
        }
      ]
    },
    {
      "cell_type": "code",
      "source": [
        "assembler = VectorAssembler(inputCols = X, outputCol = 'features')\n",
        "novo_cliente_F = assembler.transform(novo_cliente).select('features')\n",
        "novo_cliente_F.show(truncate=False)"
      ],
      "metadata": {
        "colab": {
          "base_uri": "https://localhost:8080/"
        },
        "id": "PDrNT-fQ00a7",
        "outputId": "4cb503cb-a11d-4756-cdb8-bfdeb1766d29"
      },
      "execution_count": 173,
      "outputs": [
        {
          "output_type": "stream",
          "name": "stdout",
          "text": [
            "+----------------------------------------------------------------------------+\n",
            "|features                                                                    |\n",
            "+----------------------------------------------------------------------------+\n",
            "|(24,[1,2,11,12,13,14,17,22],[1.0,45.30540797610398,1.0,1.0,1.0,1.0,1.0,1.0])|\n",
            "+----------------------------------------------------------------------------+\n",
            "\n"
          ]
        }
      ]
    },
    {
      "cell_type": "code",
      "source": [
        "modelo_dtc_tunning.transform(novo_cliente_F).show()"
      ],
      "metadata": {
        "colab": {
          "base_uri": "https://localhost:8080/"
        },
        "id": "XwCGKGLz02m6",
        "outputId": "fd13e6cc-34a1-4069-edda-53c953eccd16"
      },
      "execution_count": 176,
      "outputs": [
        {
          "output_type": "stream",
          "name": "stdout",
          "text": [
            "+--------------------+--------------+--------------------+----------+\n",
            "|            features| rawPrediction|         probability|prediction|\n",
            "+--------------------+--------------+--------------------+----------+\n",
            "|(24,[1,2,11,12,13...|[138.0,1412.0]|[0.08903225806451...|       1.0|\n",
            "+--------------------+--------------+--------------------+----------+\n",
            "\n"
          ]
        }
      ]
    },
    {
      "cell_type": "markdown",
      "source": [
        "A coluna 'prediction' contém a informação crucial que estávamos procurando. Um valor de 1.0 indica que nosso modelo prevê que esse cliente está propenso a cancelar o serviço. Em outras palavras, esse é um cliente ao qual priorizaríamos, sugerindo ao time de marketing que ofereça promoções especiais para tentar retê-lo"
      ],
      "metadata": {
        "id": "uuN9F-z91nbY"
      }
    }
  ]
}